{
  "nbformat": 4,
  "nbformat_minor": 0,
  "metadata": {
    "colab": {
      "provenance": []
    },
    "kernelspec": {
      "name": "python3",
      "display_name": "Python 3"
    },
    "language_info": {
      "name": "python"
    }
  },
  "cells": [
    {
      "cell_type": "markdown",
      "source": [
        "# Descarga librerias"
      ],
      "metadata": {
        "id": "kVdd2-aSdqZl"
      }
    },
    {
      "cell_type": "code",
      "source": [
        "!pip install opendatasets"
      ],
      "metadata": {
        "colab": {
          "base_uri": "https://localhost:8080/"
        },
        "id": "IwszqWe14T4X",
        "outputId": "7e81a2a1-62ba-4dcb-a90a-09ff6f11d6e2"
      },
      "execution_count": null,
      "outputs": [
        {
          "output_type": "stream",
          "name": "stdout",
          "text": [
            "Collecting opendatasets\n",
            "  Downloading opendatasets-0.1.22-py3-none-any.whl.metadata (9.2 kB)\n",
            "Requirement already satisfied: tqdm in /usr/local/lib/python3.12/dist-packages (from opendatasets) (4.67.1)\n",
            "Requirement already satisfied: kaggle in /usr/local/lib/python3.12/dist-packages (from opendatasets) (1.7.4.5)\n",
            "Requirement already satisfied: click in /usr/local/lib/python3.12/dist-packages (from opendatasets) (8.2.1)\n",
            "Requirement already satisfied: bleach in /usr/local/lib/python3.12/dist-packages (from kaggle->opendatasets) (6.2.0)\n",
            "Requirement already satisfied: certifi>=14.05.14 in /usr/local/lib/python3.12/dist-packages (from kaggle->opendatasets) (2025.8.3)\n",
            "Requirement already satisfied: charset-normalizer in /usr/local/lib/python3.12/dist-packages (from kaggle->opendatasets) (3.4.3)\n",
            "Requirement already satisfied: idna in /usr/local/lib/python3.12/dist-packages (from kaggle->opendatasets) (3.10)\n",
            "Requirement already satisfied: protobuf in /usr/local/lib/python3.12/dist-packages (from kaggle->opendatasets) (5.29.5)\n",
            "Requirement already satisfied: python-dateutil>=2.5.3 in /usr/local/lib/python3.12/dist-packages (from kaggle->opendatasets) (2.9.0.post0)\n",
            "Requirement already satisfied: python-slugify in /usr/local/lib/python3.12/dist-packages (from kaggle->opendatasets) (8.0.4)\n",
            "Requirement already satisfied: requests in /usr/local/lib/python3.12/dist-packages (from kaggle->opendatasets) (2.32.4)\n",
            "Requirement already satisfied: setuptools>=21.0.0 in /usr/local/lib/python3.12/dist-packages (from kaggle->opendatasets) (75.2.0)\n",
            "Requirement already satisfied: six>=1.10 in /usr/local/lib/python3.12/dist-packages (from kaggle->opendatasets) (1.17.0)\n",
            "Requirement already satisfied: text-unidecode in /usr/local/lib/python3.12/dist-packages (from kaggle->opendatasets) (1.3)\n",
            "Requirement already satisfied: urllib3>=1.15.1 in /usr/local/lib/python3.12/dist-packages (from kaggle->opendatasets) (2.5.0)\n",
            "Requirement already satisfied: webencodings in /usr/local/lib/python3.12/dist-packages (from kaggle->opendatasets) (0.5.1)\n",
            "Downloading opendatasets-0.1.22-py3-none-any.whl (15 kB)\n",
            "Installing collected packages: opendatasets\n",
            "Successfully installed opendatasets-0.1.22\n"
          ]
        }
      ]
    },
    {
      "cell_type": "code",
      "execution_count": null,
      "metadata": {
        "id": "s_tesMyb3tZ2"
      },
      "outputs": [],
      "source": [
        "import numpy as np\n",
        "import pandas as pd\n",
        "import opendatasets as od\n",
        "from sklearn.model_selection import train_test_split\n",
        "from sklearn.linear_model import LinearRegression\n",
        "from sklearn.metrics import mean_squared_error, r2_score\n",
        "from sklearn.linear_model import LogisticRegression\n",
        "from sklearn.metrics import classification_report, confusion_matrix, roc_auc_score, roc_curve\n",
        "from sklearn.tree import DecisionTreeClassifier\n",
        "from sklearn.ensemble import RandomForestClassifier"
      ]
    },
    {
      "cell_type": "code",
      "source": [
        "df = pd.read_csv('clusters_k3_assignments.csv')"
      ],
      "metadata": {
        "id": "8l1c0AbW3vNZ"
      },
      "execution_count": null,
      "outputs": []
    },
    {
      "cell_type": "code",
      "source": [
        "df.columns"
      ],
      "metadata": {
        "colab": {
          "base_uri": "https://localhost:8080/"
        },
        "id": "39rNnYuR39ZM",
        "outputId": "22cf9025-e996-4972-a86e-70cea026b2a3"
      },
      "execution_count": null,
      "outputs": [
        {
          "output_type": "execute_result",
          "data": {
            "text/plain": [
              "Index(['Startup Name', 'Industry', 'Region', 'Exit Status',\n",
              "       'Funding Amount (M USD)_log', 'Revenue (M USD)_log',\n",
              "       'Valuation (M USD)_log', 'Employees_log', 'Market Share (%)', 'age',\n",
              "       'funding_to_revenue', 'employees_to_revenue', 'valuation_to_age',\n",
              "       'valuation_to_market_share', 'cluster_k3'],\n",
              "      dtype='object')"
            ]
          },
          "metadata": {},
          "execution_count": 3
        }
      ]
    },
    {
      "cell_type": "code",
      "source": [
        "df.head()"
      ],
      "metadata": {
        "colab": {
          "base_uri": "https://localhost:8080/",
          "height": 330
        },
        "id": "MKnNU7nm3-R0",
        "outputId": "22874aa4-2200-4165-a98f-ec1598238fb6"
      },
      "execution_count": null,
      "outputs": [
        {
          "output_type": "execute_result",
          "data": {
            "text/plain": [
              "  Startup Name Industry         Region Exit Status  \\\n",
              "0    Startup_1      IoT         Europe     Private   \n",
              "1    Startup_2   EdTech  South America     Private   \n",
              "2    Startup_3   EdTech  South America     Private   \n",
              "3    Startup_4   Gaming  South America     Private   \n",
              "4    Startup_5      IoT         Europe    Acquired   \n",
              "\n",
              "   Funding Amount (M USD)_log  Revenue (M USD)_log  Valuation (M USD)_log  \\\n",
              "0                    4.625855             4.232221               6.740224   \n",
              "1                    5.515926             4.339250               8.105256   \n",
              "2                    4.702660             4.445119               6.966373   \n",
              "3                    2.463853             3.872866               4.633758   \n",
              "4                    5.522580             3.936716               6.746541   \n",
              "\n",
              "   Employees_log  Market Share (%)  age  funding_to_revenue  \\\n",
              "0       7.292337              5.20   19            1.489465   \n",
              "1       8.095904              8.10   22            3.273232   \n",
              "2       8.503905              2.61   30            1.297233   \n",
              "3       6.966024              2.53   22            0.228335   \n",
              "4       7.552762              4.09   28            4.960796   \n",
              "\n",
              "   employees_to_revenue  valuation_to_age  valuation_to_market_share  \\\n",
              "0             21.629586         44.460526                 162.451923   \n",
              "1             43.357568        150.492273                 408.744444   \n",
              "2             58.579741         35.312333                 405.888889   \n",
              "3             22.493628          4.631818                  40.276680   \n",
              "4             37.910448         30.361071                 207.850856   \n",
              "\n",
              "   cluster_k3  \n",
              "0           0  \n",
              "1           0  \n",
              "2           0  \n",
              "3           1  \n",
              "4           0  "
            ],
            "text/html": [
              "\n",
              "  <div id=\"df-51eda29e-15b4-4065-86bb-2df8c819846c\" class=\"colab-df-container\">\n",
              "    <div>\n",
              "<style scoped>\n",
              "    .dataframe tbody tr th:only-of-type {\n",
              "        vertical-align: middle;\n",
              "    }\n",
              "\n",
              "    .dataframe tbody tr th {\n",
              "        vertical-align: top;\n",
              "    }\n",
              "\n",
              "    .dataframe thead th {\n",
              "        text-align: right;\n",
              "    }\n",
              "</style>\n",
              "<table border=\"1\" class=\"dataframe\">\n",
              "  <thead>\n",
              "    <tr style=\"text-align: right;\">\n",
              "      <th></th>\n",
              "      <th>Startup Name</th>\n",
              "      <th>Industry</th>\n",
              "      <th>Region</th>\n",
              "      <th>Exit Status</th>\n",
              "      <th>Funding Amount (M USD)_log</th>\n",
              "      <th>Revenue (M USD)_log</th>\n",
              "      <th>Valuation (M USD)_log</th>\n",
              "      <th>Employees_log</th>\n",
              "      <th>Market Share (%)</th>\n",
              "      <th>age</th>\n",
              "      <th>funding_to_revenue</th>\n",
              "      <th>employees_to_revenue</th>\n",
              "      <th>valuation_to_age</th>\n",
              "      <th>valuation_to_market_share</th>\n",
              "      <th>cluster_k3</th>\n",
              "    </tr>\n",
              "  </thead>\n",
              "  <tbody>\n",
              "    <tr>\n",
              "      <th>0</th>\n",
              "      <td>Startup_1</td>\n",
              "      <td>IoT</td>\n",
              "      <td>Europe</td>\n",
              "      <td>Private</td>\n",
              "      <td>4.625855</td>\n",
              "      <td>4.232221</td>\n",
              "      <td>6.740224</td>\n",
              "      <td>7.292337</td>\n",
              "      <td>5.20</td>\n",
              "      <td>19</td>\n",
              "      <td>1.489465</td>\n",
              "      <td>21.629586</td>\n",
              "      <td>44.460526</td>\n",
              "      <td>162.451923</td>\n",
              "      <td>0</td>\n",
              "    </tr>\n",
              "    <tr>\n",
              "      <th>1</th>\n",
              "      <td>Startup_2</td>\n",
              "      <td>EdTech</td>\n",
              "      <td>South America</td>\n",
              "      <td>Private</td>\n",
              "      <td>5.515926</td>\n",
              "      <td>4.339250</td>\n",
              "      <td>8.105256</td>\n",
              "      <td>8.095904</td>\n",
              "      <td>8.10</td>\n",
              "      <td>22</td>\n",
              "      <td>3.273232</td>\n",
              "      <td>43.357568</td>\n",
              "      <td>150.492273</td>\n",
              "      <td>408.744444</td>\n",
              "      <td>0</td>\n",
              "    </tr>\n",
              "    <tr>\n",
              "      <th>2</th>\n",
              "      <td>Startup_3</td>\n",
              "      <td>EdTech</td>\n",
              "      <td>South America</td>\n",
              "      <td>Private</td>\n",
              "      <td>4.702660</td>\n",
              "      <td>4.445119</td>\n",
              "      <td>6.966373</td>\n",
              "      <td>8.503905</td>\n",
              "      <td>2.61</td>\n",
              "      <td>30</td>\n",
              "      <td>1.297233</td>\n",
              "      <td>58.579741</td>\n",
              "      <td>35.312333</td>\n",
              "      <td>405.888889</td>\n",
              "      <td>0</td>\n",
              "    </tr>\n",
              "    <tr>\n",
              "      <th>3</th>\n",
              "      <td>Startup_4</td>\n",
              "      <td>Gaming</td>\n",
              "      <td>South America</td>\n",
              "      <td>Private</td>\n",
              "      <td>2.463853</td>\n",
              "      <td>3.872866</td>\n",
              "      <td>4.633758</td>\n",
              "      <td>6.966024</td>\n",
              "      <td>2.53</td>\n",
              "      <td>22</td>\n",
              "      <td>0.228335</td>\n",
              "      <td>22.493628</td>\n",
              "      <td>4.631818</td>\n",
              "      <td>40.276680</td>\n",
              "      <td>1</td>\n",
              "    </tr>\n",
              "    <tr>\n",
              "      <th>4</th>\n",
              "      <td>Startup_5</td>\n",
              "      <td>IoT</td>\n",
              "      <td>Europe</td>\n",
              "      <td>Acquired</td>\n",
              "      <td>5.522580</td>\n",
              "      <td>3.936716</td>\n",
              "      <td>6.746541</td>\n",
              "      <td>7.552762</td>\n",
              "      <td>4.09</td>\n",
              "      <td>28</td>\n",
              "      <td>4.960796</td>\n",
              "      <td>37.910448</td>\n",
              "      <td>30.361071</td>\n",
              "      <td>207.850856</td>\n",
              "      <td>0</td>\n",
              "    </tr>\n",
              "  </tbody>\n",
              "</table>\n",
              "</div>\n",
              "    <div class=\"colab-df-buttons\">\n",
              "\n",
              "  <div class=\"colab-df-container\">\n",
              "    <button class=\"colab-df-convert\" onclick=\"convertToInteractive('df-51eda29e-15b4-4065-86bb-2df8c819846c')\"\n",
              "            title=\"Convert this dataframe to an interactive table.\"\n",
              "            style=\"display:none;\">\n",
              "\n",
              "  <svg xmlns=\"http://www.w3.org/2000/svg\" height=\"24px\" viewBox=\"0 -960 960 960\">\n",
              "    <path d=\"M120-120v-720h720v720H120Zm60-500h600v-160H180v160Zm220 220h160v-160H400v160Zm0 220h160v-160H400v160ZM180-400h160v-160H180v160Zm440 0h160v-160H620v160ZM180-180h160v-160H180v160Zm440 0h160v-160H620v160Z\"/>\n",
              "  </svg>\n",
              "    </button>\n",
              "\n",
              "  <style>\n",
              "    .colab-df-container {\n",
              "      display:flex;\n",
              "      gap: 12px;\n",
              "    }\n",
              "\n",
              "    .colab-df-convert {\n",
              "      background-color: #E8F0FE;\n",
              "      border: none;\n",
              "      border-radius: 50%;\n",
              "      cursor: pointer;\n",
              "      display: none;\n",
              "      fill: #1967D2;\n",
              "      height: 32px;\n",
              "      padding: 0 0 0 0;\n",
              "      width: 32px;\n",
              "    }\n",
              "\n",
              "    .colab-df-convert:hover {\n",
              "      background-color: #E2EBFA;\n",
              "      box-shadow: 0px 1px 2px rgba(60, 64, 67, 0.3), 0px 1px 3px 1px rgba(60, 64, 67, 0.15);\n",
              "      fill: #174EA6;\n",
              "    }\n",
              "\n",
              "    .colab-df-buttons div {\n",
              "      margin-bottom: 4px;\n",
              "    }\n",
              "\n",
              "    [theme=dark] .colab-df-convert {\n",
              "      background-color: #3B4455;\n",
              "      fill: #D2E3FC;\n",
              "    }\n",
              "\n",
              "    [theme=dark] .colab-df-convert:hover {\n",
              "      background-color: #434B5C;\n",
              "      box-shadow: 0px 1px 3px 1px rgba(0, 0, 0, 0.15);\n",
              "      filter: drop-shadow(0px 1px 2px rgba(0, 0, 0, 0.3));\n",
              "      fill: #FFFFFF;\n",
              "    }\n",
              "  </style>\n",
              "\n",
              "    <script>\n",
              "      const buttonEl =\n",
              "        document.querySelector('#df-51eda29e-15b4-4065-86bb-2df8c819846c button.colab-df-convert');\n",
              "      buttonEl.style.display =\n",
              "        google.colab.kernel.accessAllowed ? 'block' : 'none';\n",
              "\n",
              "      async function convertToInteractive(key) {\n",
              "        const element = document.querySelector('#df-51eda29e-15b4-4065-86bb-2df8c819846c');\n",
              "        const dataTable =\n",
              "          await google.colab.kernel.invokeFunction('convertToInteractive',\n",
              "                                                    [key], {});\n",
              "        if (!dataTable) return;\n",
              "\n",
              "        const docLinkHtml = 'Like what you see? Visit the ' +\n",
              "          '<a target=\"_blank\" href=https://colab.research.google.com/notebooks/data_table.ipynb>data table notebook</a>'\n",
              "          + ' to learn more about interactive tables.';\n",
              "        element.innerHTML = '';\n",
              "        dataTable['output_type'] = 'display_data';\n",
              "        await google.colab.output.renderOutput(dataTable, element);\n",
              "        const docLink = document.createElement('div');\n",
              "        docLink.innerHTML = docLinkHtml;\n",
              "        element.appendChild(docLink);\n",
              "      }\n",
              "    </script>\n",
              "  </div>\n",
              "\n",
              "\n",
              "    <div id=\"df-54e17d3a-9bb5-40b1-8d19-00c77616d045\">\n",
              "      <button class=\"colab-df-quickchart\" onclick=\"quickchart('df-54e17d3a-9bb5-40b1-8d19-00c77616d045')\"\n",
              "                title=\"Suggest charts\"\n",
              "                style=\"display:none;\">\n",
              "\n",
              "<svg xmlns=\"http://www.w3.org/2000/svg\" height=\"24px\"viewBox=\"0 0 24 24\"\n",
              "     width=\"24px\">\n",
              "    <g>\n",
              "        <path d=\"M19 3H5c-1.1 0-2 .9-2 2v14c0 1.1.9 2 2 2h14c1.1 0 2-.9 2-2V5c0-1.1-.9-2-2-2zM9 17H7v-7h2v7zm4 0h-2V7h2v10zm4 0h-2v-4h2v4z\"/>\n",
              "    </g>\n",
              "</svg>\n",
              "      </button>\n",
              "\n",
              "<style>\n",
              "  .colab-df-quickchart {\n",
              "      --bg-color: #E8F0FE;\n",
              "      --fill-color: #1967D2;\n",
              "      --hover-bg-color: #E2EBFA;\n",
              "      --hover-fill-color: #174EA6;\n",
              "      --disabled-fill-color: #AAA;\n",
              "      --disabled-bg-color: #DDD;\n",
              "  }\n",
              "\n",
              "  [theme=dark] .colab-df-quickchart {\n",
              "      --bg-color: #3B4455;\n",
              "      --fill-color: #D2E3FC;\n",
              "      --hover-bg-color: #434B5C;\n",
              "      --hover-fill-color: #FFFFFF;\n",
              "      --disabled-bg-color: #3B4455;\n",
              "      --disabled-fill-color: #666;\n",
              "  }\n",
              "\n",
              "  .colab-df-quickchart {\n",
              "    background-color: var(--bg-color);\n",
              "    border: none;\n",
              "    border-radius: 50%;\n",
              "    cursor: pointer;\n",
              "    display: none;\n",
              "    fill: var(--fill-color);\n",
              "    height: 32px;\n",
              "    padding: 0;\n",
              "    width: 32px;\n",
              "  }\n",
              "\n",
              "  .colab-df-quickchart:hover {\n",
              "    background-color: var(--hover-bg-color);\n",
              "    box-shadow: 0 1px 2px rgba(60, 64, 67, 0.3), 0 1px 3px 1px rgba(60, 64, 67, 0.15);\n",
              "    fill: var(--button-hover-fill-color);\n",
              "  }\n",
              "\n",
              "  .colab-df-quickchart-complete:disabled,\n",
              "  .colab-df-quickchart-complete:disabled:hover {\n",
              "    background-color: var(--disabled-bg-color);\n",
              "    fill: var(--disabled-fill-color);\n",
              "    box-shadow: none;\n",
              "  }\n",
              "\n",
              "  .colab-df-spinner {\n",
              "    border: 2px solid var(--fill-color);\n",
              "    border-color: transparent;\n",
              "    border-bottom-color: var(--fill-color);\n",
              "    animation:\n",
              "      spin 1s steps(1) infinite;\n",
              "  }\n",
              "\n",
              "  @keyframes spin {\n",
              "    0% {\n",
              "      border-color: transparent;\n",
              "      border-bottom-color: var(--fill-color);\n",
              "      border-left-color: var(--fill-color);\n",
              "    }\n",
              "    20% {\n",
              "      border-color: transparent;\n",
              "      border-left-color: var(--fill-color);\n",
              "      border-top-color: var(--fill-color);\n",
              "    }\n",
              "    30% {\n",
              "      border-color: transparent;\n",
              "      border-left-color: var(--fill-color);\n",
              "      border-top-color: var(--fill-color);\n",
              "      border-right-color: var(--fill-color);\n",
              "    }\n",
              "    40% {\n",
              "      border-color: transparent;\n",
              "      border-right-color: var(--fill-color);\n",
              "      border-top-color: var(--fill-color);\n",
              "    }\n",
              "    60% {\n",
              "      border-color: transparent;\n",
              "      border-right-color: var(--fill-color);\n",
              "    }\n",
              "    80% {\n",
              "      border-color: transparent;\n",
              "      border-right-color: var(--fill-color);\n",
              "      border-bottom-color: var(--fill-color);\n",
              "    }\n",
              "    90% {\n",
              "      border-color: transparent;\n",
              "      border-bottom-color: var(--fill-color);\n",
              "    }\n",
              "  }\n",
              "</style>\n",
              "\n",
              "      <script>\n",
              "        async function quickchart(key) {\n",
              "          const quickchartButtonEl =\n",
              "            document.querySelector('#' + key + ' button');\n",
              "          quickchartButtonEl.disabled = true;  // To prevent multiple clicks.\n",
              "          quickchartButtonEl.classList.add('colab-df-spinner');\n",
              "          try {\n",
              "            const charts = await google.colab.kernel.invokeFunction(\n",
              "                'suggestCharts', [key], {});\n",
              "          } catch (error) {\n",
              "            console.error('Error during call to suggestCharts:', error);\n",
              "          }\n",
              "          quickchartButtonEl.classList.remove('colab-df-spinner');\n",
              "          quickchartButtonEl.classList.add('colab-df-quickchart-complete');\n",
              "        }\n",
              "        (() => {\n",
              "          let quickchartButtonEl =\n",
              "            document.querySelector('#df-54e17d3a-9bb5-40b1-8d19-00c77616d045 button');\n",
              "          quickchartButtonEl.style.display =\n",
              "            google.colab.kernel.accessAllowed ? 'block' : 'none';\n",
              "        })();\n",
              "      </script>\n",
              "    </div>\n",
              "\n",
              "    </div>\n",
              "  </div>\n"
            ],
            "application/vnd.google.colaboratory.intrinsic+json": {
              "type": "dataframe",
              "variable_name": "df",
              "summary": "{\n  \"name\": \"df\",\n  \"rows\": 500,\n  \"fields\": [\n    {\n      \"column\": \"Startup Name\",\n      \"properties\": {\n        \"dtype\": \"string\",\n        \"num_unique_values\": 500,\n        \"samples\": [\n          \"Startup_362\",\n          \"Startup_74\",\n          \"Startup_375\"\n        ],\n        \"semantic_type\": \"\",\n        \"description\": \"\"\n      }\n    },\n    {\n      \"column\": \"Industry\",\n      \"properties\": {\n        \"dtype\": \"category\",\n        \"num_unique_values\": 8,\n        \"samples\": [\n          \"EdTech\",\n          \"FinTech\",\n          \"IoT\"\n        ],\n        \"semantic_type\": \"\",\n        \"description\": \"\"\n      }\n    },\n    {\n      \"column\": \"Region\",\n      \"properties\": {\n        \"dtype\": \"category\",\n        \"num_unique_values\": 5,\n        \"samples\": [\n          \"South America\",\n          \"Asia\",\n          \"Australia\"\n        ],\n        \"semantic_type\": \"\",\n        \"description\": \"\"\n      }\n    },\n    {\n      \"column\": \"Exit Status\",\n      \"properties\": {\n        \"dtype\": \"category\",\n        \"num_unique_values\": 3,\n        \"samples\": [\n          \"Private\",\n          \"Acquired\",\n          \"IPO\"\n        ],\n        \"semantic_type\": \"\",\n        \"description\": \"\"\n      }\n    },\n    {\n      \"column\": \"Funding Amount (M USD)_log\",\n      \"properties\": {\n        \"dtype\": \"number\",\n        \"std\": 1.0079683570556464,\n        \"min\": 0.4510756193602167,\n        \"max\": 5.706478836203944,\n        \"num_unique_values\": 494,\n        \"samples\": [\n          4.811289646296506,\n          5.237452090776761,\n          5.669846439627355\n        ],\n        \"semantic_type\": \"\",\n        \"description\": \"\"\n      }\n    },\n    {\n      \"column\": \"Revenue (M USD)_log\",\n      \"properties\": {\n        \"dtype\": \"number\",\n        \"std\": 0.9290549992286105,\n        \"min\": 0.1133286853070031,\n        \"max\": 4.612245099660053,\n        \"num_unique_values\": 490,\n        \"samples\": [\n          2.254444717666111,\n          3.1612467120315646,\n          4.184337600748806\n        ],\n        \"semantic_type\": \"\",\n        \"description\": \"\"\n      }\n    },\n    {\n      \"column\": \"Valuation (M USD)_log\",\n      \"properties\": {\n        \"dtype\": \"number\",\n        \"std\": 1.1684969845496653,\n        \"min\": 1.2325602611778486,\n        \"max\": 8.37988094608167,\n        \"num_unique_values\": 500,\n        \"samples\": [\n          7.717822901048859,\n          7.248816967937158,\n          7.162017580235107\n        ],\n        \"semantic_type\": \"\",\n        \"description\": \"\"\n      }\n    },\n    {\n      \"column\": \"Employees_log\",\n      \"properties\": {\n        \"dtype\": \"number\",\n        \"std\": 0.9115758899952734,\n        \"min\": 2.5649493574615367,\n        \"max\": 8.514188682395938,\n        \"num_unique_values\": 478,\n        \"samples\": [\n          7.813591552952433,\n          7.175489713624222,\n          7.927685045615778\n        ],\n        \"semantic_type\": \"\",\n        \"description\": \"\"\n      }\n    },\n    {\n      \"column\": \"Market Share (%)\",\n      \"properties\": {\n        \"dtype\": \"number\",\n        \"std\": 2.807645651539601,\n        \"min\": 0.1,\n        \"max\": 10.0,\n        \"num_unique_values\": 384,\n        \"samples\": [\n          8.75,\n          4.31,\n          8.22\n        ],\n        \"semantic_type\": \"\",\n        \"description\": \"\"\n      }\n    },\n    {\n      \"column\": \"age\",\n      \"properties\": {\n        \"dtype\": \"number\",\n        \"std\": 9,\n        \"min\": 3,\n        \"max\": 35,\n        \"num_unique_values\": 33,\n        \"samples\": [\n          3,\n          32,\n          6\n        ],\n        \"semantic_type\": \"\",\n        \"description\": \"\"\n      }\n    },\n    {\n      \"column\": \"funding_to_revenue\",\n      \"properties\": {\n        \"dtype\": \"number\",\n        \"std\": 22.306571615124255,\n        \"min\": 0.0099537859936011,\n        \"max\": 204.72916666666663,\n        \"num_unique_values\": 500,\n        \"samples\": [\n          3.2024530811290086,\n          3.888450353136685,\n          25.58476658476658\n        ],\n        \"semantic_type\": \"\",\n        \"description\": \"\"\n      }\n    },\n    {\n      \"column\": \"employees_to_revenue\",\n      \"properties\": {\n        \"dtype\": \"number\",\n        \"std\": 1910.9304057534264,\n        \"min\": 0.3844114528101803,\n        \"max\": 33975.0,\n        \"num_unique_values\": 500,\n        \"samples\": [\n          70.41525048027191,\n          55.35936850851682,\n          543.4889434889435\n        ],\n        \"semantic_type\": \"\",\n        \"description\": \"\"\n      }\n    },\n    {\n      \"column\": \"valuation_to_age\",\n      \"properties\": {\n        \"dtype\": \"number\",\n        \"std\": 128.62266137253428,\n        \"min\": 0.0775,\n        \"max\": 1452.496666666667,\n        \"num_unique_values\": 500,\n        \"samples\": [\n          204.27818181818185,\n          108.11076923076924,\n          39.04575757575758\n        ],\n        \"semantic_type\": \"\",\n        \"description\": \"\"\n      }\n    },\n    {\n      \"column\": \"valuation_to_market_share\",\n      \"properties\": {\n        \"dtype\": \"number\",\n        \"std\": 1519.0046941803034,\n        \"min\": 0.562358276643991,\n        \"max\": 20098.500000000004,\n        \"num_unique_values\": 500,\n        \"samples\": [\n          301.6187919463087,\n          150.79828326180257,\n          1481.0459770114942\n        ],\n        \"semantic_type\": \"\",\n        \"description\": \"\"\n      }\n    },\n    {\n      \"column\": \"cluster_k3\",\n      \"properties\": {\n        \"dtype\": \"number\",\n        \"std\": 0,\n        \"min\": 0,\n        \"max\": 2,\n        \"num_unique_values\": 3,\n        \"samples\": [\n          0,\n          1,\n          2\n        ],\n        \"semantic_type\": \"\",\n        \"description\": \"\"\n      }\n    }\n  ]\n}"
            }
          },
          "metadata": {},
          "execution_count": 4
        }
      ]
    },
    {
      "cell_type": "code",
      "source": [
        "od.download(\"https://www.kaggle.com/datasets/samayashar/startup-growth-and-funding-trends\")"
      ],
      "metadata": {
        "colab": {
          "base_uri": "https://localhost:8080/"
        },
        "id": "iljaAdEH4OUw",
        "outputId": "4317c6dc-2242-416b-e8ea-6ff69360b2fe"
      },
      "execution_count": null,
      "outputs": [
        {
          "output_type": "stream",
          "name": "stdout",
          "text": [
            "Please provide your Kaggle credentials to download this dataset. Learn more: http://bit.ly/kaggle-creds\n",
            "Your Kaggle username: Alejandra Aguilera\n",
            "Your Kaggle Key: ··········\n",
            "Dataset URL: https://www.kaggle.com/datasets/samayashar/startup-growth-and-funding-trends\n",
            "Downloading startup-growth-and-funding-trends.zip to ./startup-growth-and-funding-trends\n"
          ]
        },
        {
          "output_type": "stream",
          "name": "stderr",
          "text": [
            "100%|██████████| 11.6k/11.6k [00:00<00:00, 48.6MB/s]"
          ]
        },
        {
          "output_type": "stream",
          "name": "stdout",
          "text": [
            "\n"
          ]
        },
        {
          "output_type": "stream",
          "name": "stderr",
          "text": [
            "\n"
          ]
        }
      ]
    },
    {
      "cell_type": "markdown",
      "source": [
        "# Info del dataset + clustering final"
      ],
      "metadata": {
        "id": "qpe-xHf9d2QY"
      }
    },
    {
      "cell_type": "code",
      "source": [
        "df_org = pd.read_csv('./startup-growth-and-funding-trends/startup_data.csv')\n",
        "\n",
        "\n",
        "print(df_org.head())\n",
        "print(df_org.shape)"
      ],
      "metadata": {
        "colab": {
          "base_uri": "https://localhost:8080/"
        },
        "id": "Ry_Vj-qD4ZWt",
        "outputId": "8bd6a924-db64-4147-d6ee-c944c1f535d4"
      },
      "execution_count": null,
      "outputs": [
        {
          "output_type": "stream",
          "name": "stdout",
          "text": [
            "  Startup Name Industry  Funding Rounds  Funding Amount (M USD)  \\\n",
            "0    Startup_1      IoT               1                  101.09   \n",
            "1    Startup_2   EdTech               1                  247.62   \n",
            "2    Startup_3   EdTech               1                  109.24   \n",
            "3    Startup_4   Gaming               5                   10.75   \n",
            "4    Startup_5      IoT               4                  249.28   \n",
            "\n",
            "   Valuation (M USD)  Revenue (M USD)  Employees  Market Share (%)  \\\n",
            "0             844.75            67.87       1468              5.20   \n",
            "1            3310.83            75.65       3280              8.10   \n",
            "2            1059.37            84.21       4933              2.61   \n",
            "3             101.90            47.08       1059              2.53   \n",
            "4             850.11            50.25       1905              4.09   \n",
            "\n",
            "   Profitable  Year Founded         Region Exit Status  \n",
            "0           0          2006         Europe     Private  \n",
            "1           1          2003  South America     Private  \n",
            "2           1          1995  South America     Private  \n",
            "3           0          2003  South America     Private  \n",
            "4           0          1997         Europe    Acquired  \n",
            "(500, 12)\n"
          ]
        }
      ]
    },
    {
      "cell_type": "code",
      "source": [
        "df_org.columns"
      ],
      "metadata": {
        "colab": {
          "base_uri": "https://localhost:8080/"
        },
        "id": "XIvBoIPJ4f-L",
        "outputId": "dd17cd58-725f-4f0f-d65a-1bd60f085ab7"
      },
      "execution_count": null,
      "outputs": [
        {
          "output_type": "execute_result",
          "data": {
            "text/plain": [
              "Index(['Startup Name', 'Industry', 'Funding Rounds', 'Funding Amount (M USD)',\n",
              "       'Valuation (M USD)', 'Revenue (M USD)', 'Employees', 'Market Share (%)',\n",
              "       'Profitable', 'Year Founded', 'Region', 'Exit Status'],\n",
              "      dtype='object')"
            ]
          },
          "metadata": {},
          "execution_count": 9
        }
      ]
    },
    {
      "cell_type": "code",
      "source": [
        "# Merge para traer Profitable al dataset de clusters\n",
        "df_1 = df.merge(\n",
        "    df_org[['Startup Name', 'Profitable']],\n",
        "    on='Startup Name',\n",
        "    how='left'\n",
        ")\n",
        "\n",
        "# Revisar que la columna quedó bien\n",
        "print(df_1[['Startup Name', 'Profitable']].head())\n",
        "print(df_1['Profitable'].value_counts(dropna=False))"
      ],
      "metadata": {
        "colab": {
          "base_uri": "https://localhost:8080/"
        },
        "id": "2GgCaW1m4igc",
        "outputId": "f6be2ab6-0e23-45fe-e71d-8be987159d78"
      },
      "execution_count": null,
      "outputs": [
        {
          "output_type": "stream",
          "name": "stdout",
          "text": [
            "  Startup Name  Profitable\n",
            "0    Startup_1           0\n",
            "1    Startup_2           1\n",
            "2    Startup_3           1\n",
            "3    Startup_4           0\n",
            "4    Startup_5           0\n",
            "Profitable\n",
            "0    284\n",
            "1    216\n",
            "Name: count, dtype: int64\n"
          ]
        }
      ]
    },
    {
      "cell_type": "code",
      "source": [
        "df_1.head()"
      ],
      "metadata": {
        "colab": {
          "base_uri": "https://localhost:8080/",
          "height": 330
        },
        "id": "HSkXDgBH4sYV",
        "outputId": "216dff5d-ac63-468d-9284-e13e706e10e1"
      },
      "execution_count": null,
      "outputs": [
        {
          "output_type": "execute_result",
          "data": {
            "text/plain": [
              "  Startup Name Industry         Region Exit Status  \\\n",
              "0    Startup_1      IoT         Europe     Private   \n",
              "1    Startup_2   EdTech  South America     Private   \n",
              "2    Startup_3   EdTech  South America     Private   \n",
              "3    Startup_4   Gaming  South America     Private   \n",
              "4    Startup_5      IoT         Europe    Acquired   \n",
              "\n",
              "   Funding Amount (M USD)_log  Revenue (M USD)_log  Valuation (M USD)_log  \\\n",
              "0                    4.625855             4.232221               6.740224   \n",
              "1                    5.515926             4.339250               8.105256   \n",
              "2                    4.702660             4.445119               6.966373   \n",
              "3                    2.463853             3.872866               4.633758   \n",
              "4                    5.522580             3.936716               6.746541   \n",
              "\n",
              "   Employees_log  Market Share (%)  age  funding_to_revenue  \\\n",
              "0       7.292337              5.20   19            1.489465   \n",
              "1       8.095904              8.10   22            3.273232   \n",
              "2       8.503905              2.61   30            1.297233   \n",
              "3       6.966024              2.53   22            0.228335   \n",
              "4       7.552762              4.09   28            4.960796   \n",
              "\n",
              "   employees_to_revenue  valuation_to_age  valuation_to_market_share  \\\n",
              "0             21.629586         44.460526                 162.451923   \n",
              "1             43.357568        150.492273                 408.744444   \n",
              "2             58.579741         35.312333                 405.888889   \n",
              "3             22.493628          4.631818                  40.276680   \n",
              "4             37.910448         30.361071                 207.850856   \n",
              "\n",
              "   cluster_k3  Profitable  \n",
              "0           0           0  \n",
              "1           0           1  \n",
              "2           0           1  \n",
              "3           1           0  \n",
              "4           0           0  "
            ],
            "text/html": [
              "\n",
              "  <div id=\"df-67a8721c-f2fc-41a8-9bb2-1069eb538bf6\" class=\"colab-df-container\">\n",
              "    <div>\n",
              "<style scoped>\n",
              "    .dataframe tbody tr th:only-of-type {\n",
              "        vertical-align: middle;\n",
              "    }\n",
              "\n",
              "    .dataframe tbody tr th {\n",
              "        vertical-align: top;\n",
              "    }\n",
              "\n",
              "    .dataframe thead th {\n",
              "        text-align: right;\n",
              "    }\n",
              "</style>\n",
              "<table border=\"1\" class=\"dataframe\">\n",
              "  <thead>\n",
              "    <tr style=\"text-align: right;\">\n",
              "      <th></th>\n",
              "      <th>Startup Name</th>\n",
              "      <th>Industry</th>\n",
              "      <th>Region</th>\n",
              "      <th>Exit Status</th>\n",
              "      <th>Funding Amount (M USD)_log</th>\n",
              "      <th>Revenue (M USD)_log</th>\n",
              "      <th>Valuation (M USD)_log</th>\n",
              "      <th>Employees_log</th>\n",
              "      <th>Market Share (%)</th>\n",
              "      <th>age</th>\n",
              "      <th>funding_to_revenue</th>\n",
              "      <th>employees_to_revenue</th>\n",
              "      <th>valuation_to_age</th>\n",
              "      <th>valuation_to_market_share</th>\n",
              "      <th>cluster_k3</th>\n",
              "      <th>Profitable</th>\n",
              "    </tr>\n",
              "  </thead>\n",
              "  <tbody>\n",
              "    <tr>\n",
              "      <th>0</th>\n",
              "      <td>Startup_1</td>\n",
              "      <td>IoT</td>\n",
              "      <td>Europe</td>\n",
              "      <td>Private</td>\n",
              "      <td>4.625855</td>\n",
              "      <td>4.232221</td>\n",
              "      <td>6.740224</td>\n",
              "      <td>7.292337</td>\n",
              "      <td>5.20</td>\n",
              "      <td>19</td>\n",
              "      <td>1.489465</td>\n",
              "      <td>21.629586</td>\n",
              "      <td>44.460526</td>\n",
              "      <td>162.451923</td>\n",
              "      <td>0</td>\n",
              "      <td>0</td>\n",
              "    </tr>\n",
              "    <tr>\n",
              "      <th>1</th>\n",
              "      <td>Startup_2</td>\n",
              "      <td>EdTech</td>\n",
              "      <td>South America</td>\n",
              "      <td>Private</td>\n",
              "      <td>5.515926</td>\n",
              "      <td>4.339250</td>\n",
              "      <td>8.105256</td>\n",
              "      <td>8.095904</td>\n",
              "      <td>8.10</td>\n",
              "      <td>22</td>\n",
              "      <td>3.273232</td>\n",
              "      <td>43.357568</td>\n",
              "      <td>150.492273</td>\n",
              "      <td>408.744444</td>\n",
              "      <td>0</td>\n",
              "      <td>1</td>\n",
              "    </tr>\n",
              "    <tr>\n",
              "      <th>2</th>\n",
              "      <td>Startup_3</td>\n",
              "      <td>EdTech</td>\n",
              "      <td>South America</td>\n",
              "      <td>Private</td>\n",
              "      <td>4.702660</td>\n",
              "      <td>4.445119</td>\n",
              "      <td>6.966373</td>\n",
              "      <td>8.503905</td>\n",
              "      <td>2.61</td>\n",
              "      <td>30</td>\n",
              "      <td>1.297233</td>\n",
              "      <td>58.579741</td>\n",
              "      <td>35.312333</td>\n",
              "      <td>405.888889</td>\n",
              "      <td>0</td>\n",
              "      <td>1</td>\n",
              "    </tr>\n",
              "    <tr>\n",
              "      <th>3</th>\n",
              "      <td>Startup_4</td>\n",
              "      <td>Gaming</td>\n",
              "      <td>South America</td>\n",
              "      <td>Private</td>\n",
              "      <td>2.463853</td>\n",
              "      <td>3.872866</td>\n",
              "      <td>4.633758</td>\n",
              "      <td>6.966024</td>\n",
              "      <td>2.53</td>\n",
              "      <td>22</td>\n",
              "      <td>0.228335</td>\n",
              "      <td>22.493628</td>\n",
              "      <td>4.631818</td>\n",
              "      <td>40.276680</td>\n",
              "      <td>1</td>\n",
              "      <td>0</td>\n",
              "    </tr>\n",
              "    <tr>\n",
              "      <th>4</th>\n",
              "      <td>Startup_5</td>\n",
              "      <td>IoT</td>\n",
              "      <td>Europe</td>\n",
              "      <td>Acquired</td>\n",
              "      <td>5.522580</td>\n",
              "      <td>3.936716</td>\n",
              "      <td>6.746541</td>\n",
              "      <td>7.552762</td>\n",
              "      <td>4.09</td>\n",
              "      <td>28</td>\n",
              "      <td>4.960796</td>\n",
              "      <td>37.910448</td>\n",
              "      <td>30.361071</td>\n",
              "      <td>207.850856</td>\n",
              "      <td>0</td>\n",
              "      <td>0</td>\n",
              "    </tr>\n",
              "  </tbody>\n",
              "</table>\n",
              "</div>\n",
              "    <div class=\"colab-df-buttons\">\n",
              "\n",
              "  <div class=\"colab-df-container\">\n",
              "    <button class=\"colab-df-convert\" onclick=\"convertToInteractive('df-67a8721c-f2fc-41a8-9bb2-1069eb538bf6')\"\n",
              "            title=\"Convert this dataframe to an interactive table.\"\n",
              "            style=\"display:none;\">\n",
              "\n",
              "  <svg xmlns=\"http://www.w3.org/2000/svg\" height=\"24px\" viewBox=\"0 -960 960 960\">\n",
              "    <path d=\"M120-120v-720h720v720H120Zm60-500h600v-160H180v160Zm220 220h160v-160H400v160Zm0 220h160v-160H400v160ZM180-400h160v-160H180v160Zm440 0h160v-160H620v160ZM180-180h160v-160H180v160Zm440 0h160v-160H620v160Z\"/>\n",
              "  </svg>\n",
              "    </button>\n",
              "\n",
              "  <style>\n",
              "    .colab-df-container {\n",
              "      display:flex;\n",
              "      gap: 12px;\n",
              "    }\n",
              "\n",
              "    .colab-df-convert {\n",
              "      background-color: #E8F0FE;\n",
              "      border: none;\n",
              "      border-radius: 50%;\n",
              "      cursor: pointer;\n",
              "      display: none;\n",
              "      fill: #1967D2;\n",
              "      height: 32px;\n",
              "      padding: 0 0 0 0;\n",
              "      width: 32px;\n",
              "    }\n",
              "\n",
              "    .colab-df-convert:hover {\n",
              "      background-color: #E2EBFA;\n",
              "      box-shadow: 0px 1px 2px rgba(60, 64, 67, 0.3), 0px 1px 3px 1px rgba(60, 64, 67, 0.15);\n",
              "      fill: #174EA6;\n",
              "    }\n",
              "\n",
              "    .colab-df-buttons div {\n",
              "      margin-bottom: 4px;\n",
              "    }\n",
              "\n",
              "    [theme=dark] .colab-df-convert {\n",
              "      background-color: #3B4455;\n",
              "      fill: #D2E3FC;\n",
              "    }\n",
              "\n",
              "    [theme=dark] .colab-df-convert:hover {\n",
              "      background-color: #434B5C;\n",
              "      box-shadow: 0px 1px 3px 1px rgba(0, 0, 0, 0.15);\n",
              "      filter: drop-shadow(0px 1px 2px rgba(0, 0, 0, 0.3));\n",
              "      fill: #FFFFFF;\n",
              "    }\n",
              "  </style>\n",
              "\n",
              "    <script>\n",
              "      const buttonEl =\n",
              "        document.querySelector('#df-67a8721c-f2fc-41a8-9bb2-1069eb538bf6 button.colab-df-convert');\n",
              "      buttonEl.style.display =\n",
              "        google.colab.kernel.accessAllowed ? 'block' : 'none';\n",
              "\n",
              "      async function convertToInteractive(key) {\n",
              "        const element = document.querySelector('#df-67a8721c-f2fc-41a8-9bb2-1069eb538bf6');\n",
              "        const dataTable =\n",
              "          await google.colab.kernel.invokeFunction('convertToInteractive',\n",
              "                                                    [key], {});\n",
              "        if (!dataTable) return;\n",
              "\n",
              "        const docLinkHtml = 'Like what you see? Visit the ' +\n",
              "          '<a target=\"_blank\" href=https://colab.research.google.com/notebooks/data_table.ipynb>data table notebook</a>'\n",
              "          + ' to learn more about interactive tables.';\n",
              "        element.innerHTML = '';\n",
              "        dataTable['output_type'] = 'display_data';\n",
              "        await google.colab.output.renderOutput(dataTable, element);\n",
              "        const docLink = document.createElement('div');\n",
              "        docLink.innerHTML = docLinkHtml;\n",
              "        element.appendChild(docLink);\n",
              "      }\n",
              "    </script>\n",
              "  </div>\n",
              "\n",
              "\n",
              "    <div id=\"df-421d0423-f3c2-4b59-84fe-6e38697c28ae\">\n",
              "      <button class=\"colab-df-quickchart\" onclick=\"quickchart('df-421d0423-f3c2-4b59-84fe-6e38697c28ae')\"\n",
              "                title=\"Suggest charts\"\n",
              "                style=\"display:none;\">\n",
              "\n",
              "<svg xmlns=\"http://www.w3.org/2000/svg\" height=\"24px\"viewBox=\"0 0 24 24\"\n",
              "     width=\"24px\">\n",
              "    <g>\n",
              "        <path d=\"M19 3H5c-1.1 0-2 .9-2 2v14c0 1.1.9 2 2 2h14c1.1 0 2-.9 2-2V5c0-1.1-.9-2-2-2zM9 17H7v-7h2v7zm4 0h-2V7h2v10zm4 0h-2v-4h2v4z\"/>\n",
              "    </g>\n",
              "</svg>\n",
              "      </button>\n",
              "\n",
              "<style>\n",
              "  .colab-df-quickchart {\n",
              "      --bg-color: #E8F0FE;\n",
              "      --fill-color: #1967D2;\n",
              "      --hover-bg-color: #E2EBFA;\n",
              "      --hover-fill-color: #174EA6;\n",
              "      --disabled-fill-color: #AAA;\n",
              "      --disabled-bg-color: #DDD;\n",
              "  }\n",
              "\n",
              "  [theme=dark] .colab-df-quickchart {\n",
              "      --bg-color: #3B4455;\n",
              "      --fill-color: #D2E3FC;\n",
              "      --hover-bg-color: #434B5C;\n",
              "      --hover-fill-color: #FFFFFF;\n",
              "      --disabled-bg-color: #3B4455;\n",
              "      --disabled-fill-color: #666;\n",
              "  }\n",
              "\n",
              "  .colab-df-quickchart {\n",
              "    background-color: var(--bg-color);\n",
              "    border: none;\n",
              "    border-radius: 50%;\n",
              "    cursor: pointer;\n",
              "    display: none;\n",
              "    fill: var(--fill-color);\n",
              "    height: 32px;\n",
              "    padding: 0;\n",
              "    width: 32px;\n",
              "  }\n",
              "\n",
              "  .colab-df-quickchart:hover {\n",
              "    background-color: var(--hover-bg-color);\n",
              "    box-shadow: 0 1px 2px rgba(60, 64, 67, 0.3), 0 1px 3px 1px rgba(60, 64, 67, 0.15);\n",
              "    fill: var(--button-hover-fill-color);\n",
              "  }\n",
              "\n",
              "  .colab-df-quickchart-complete:disabled,\n",
              "  .colab-df-quickchart-complete:disabled:hover {\n",
              "    background-color: var(--disabled-bg-color);\n",
              "    fill: var(--disabled-fill-color);\n",
              "    box-shadow: none;\n",
              "  }\n",
              "\n",
              "  .colab-df-spinner {\n",
              "    border: 2px solid var(--fill-color);\n",
              "    border-color: transparent;\n",
              "    border-bottom-color: var(--fill-color);\n",
              "    animation:\n",
              "      spin 1s steps(1) infinite;\n",
              "  }\n",
              "\n",
              "  @keyframes spin {\n",
              "    0% {\n",
              "      border-color: transparent;\n",
              "      border-bottom-color: var(--fill-color);\n",
              "      border-left-color: var(--fill-color);\n",
              "    }\n",
              "    20% {\n",
              "      border-color: transparent;\n",
              "      border-left-color: var(--fill-color);\n",
              "      border-top-color: var(--fill-color);\n",
              "    }\n",
              "    30% {\n",
              "      border-color: transparent;\n",
              "      border-left-color: var(--fill-color);\n",
              "      border-top-color: var(--fill-color);\n",
              "      border-right-color: var(--fill-color);\n",
              "    }\n",
              "    40% {\n",
              "      border-color: transparent;\n",
              "      border-right-color: var(--fill-color);\n",
              "      border-top-color: var(--fill-color);\n",
              "    }\n",
              "    60% {\n",
              "      border-color: transparent;\n",
              "      border-right-color: var(--fill-color);\n",
              "    }\n",
              "    80% {\n",
              "      border-color: transparent;\n",
              "      border-right-color: var(--fill-color);\n",
              "      border-bottom-color: var(--fill-color);\n",
              "    }\n",
              "    90% {\n",
              "      border-color: transparent;\n",
              "      border-bottom-color: var(--fill-color);\n",
              "    }\n",
              "  }\n",
              "</style>\n",
              "\n",
              "      <script>\n",
              "        async function quickchart(key) {\n",
              "          const quickchartButtonEl =\n",
              "            document.querySelector('#' + key + ' button');\n",
              "          quickchartButtonEl.disabled = true;  // To prevent multiple clicks.\n",
              "          quickchartButtonEl.classList.add('colab-df-spinner');\n",
              "          try {\n",
              "            const charts = await google.colab.kernel.invokeFunction(\n",
              "                'suggestCharts', [key], {});\n",
              "          } catch (error) {\n",
              "            console.error('Error during call to suggestCharts:', error);\n",
              "          }\n",
              "          quickchartButtonEl.classList.remove('colab-df-spinner');\n",
              "          quickchartButtonEl.classList.add('colab-df-quickchart-complete');\n",
              "        }\n",
              "        (() => {\n",
              "          let quickchartButtonEl =\n",
              "            document.querySelector('#df-421d0423-f3c2-4b59-84fe-6e38697c28ae button');\n",
              "          quickchartButtonEl.style.display =\n",
              "            google.colab.kernel.accessAllowed ? 'block' : 'none';\n",
              "        })();\n",
              "      </script>\n",
              "    </div>\n",
              "\n",
              "    </div>\n",
              "  </div>\n"
            ],
            "application/vnd.google.colaboratory.intrinsic+json": {
              "type": "dataframe",
              "variable_name": "df_1",
              "summary": "{\n  \"name\": \"df_1\",\n  \"rows\": 500,\n  \"fields\": [\n    {\n      \"column\": \"Startup Name\",\n      \"properties\": {\n        \"dtype\": \"string\",\n        \"num_unique_values\": 500,\n        \"samples\": [\n          \"Startup_362\",\n          \"Startup_74\",\n          \"Startup_375\"\n        ],\n        \"semantic_type\": \"\",\n        \"description\": \"\"\n      }\n    },\n    {\n      \"column\": \"Industry\",\n      \"properties\": {\n        \"dtype\": \"category\",\n        \"num_unique_values\": 8,\n        \"samples\": [\n          \"EdTech\",\n          \"FinTech\",\n          \"IoT\"\n        ],\n        \"semantic_type\": \"\",\n        \"description\": \"\"\n      }\n    },\n    {\n      \"column\": \"Region\",\n      \"properties\": {\n        \"dtype\": \"category\",\n        \"num_unique_values\": 5,\n        \"samples\": [\n          \"South America\",\n          \"Asia\",\n          \"Australia\"\n        ],\n        \"semantic_type\": \"\",\n        \"description\": \"\"\n      }\n    },\n    {\n      \"column\": \"Exit Status\",\n      \"properties\": {\n        \"dtype\": \"category\",\n        \"num_unique_values\": 3,\n        \"samples\": [\n          \"Private\",\n          \"Acquired\",\n          \"IPO\"\n        ],\n        \"semantic_type\": \"\",\n        \"description\": \"\"\n      }\n    },\n    {\n      \"column\": \"Funding Amount (M USD)_log\",\n      \"properties\": {\n        \"dtype\": \"number\",\n        \"std\": 1.0079683570556464,\n        \"min\": 0.4510756193602167,\n        \"max\": 5.706478836203944,\n        \"num_unique_values\": 494,\n        \"samples\": [\n          4.811289646296506,\n          5.237452090776761,\n          5.669846439627355\n        ],\n        \"semantic_type\": \"\",\n        \"description\": \"\"\n      }\n    },\n    {\n      \"column\": \"Revenue (M USD)_log\",\n      \"properties\": {\n        \"dtype\": \"number\",\n        \"std\": 0.9290549992286105,\n        \"min\": 0.1133286853070031,\n        \"max\": 4.612245099660053,\n        \"num_unique_values\": 490,\n        \"samples\": [\n          2.254444717666111,\n          3.1612467120315646,\n          4.184337600748806\n        ],\n        \"semantic_type\": \"\",\n        \"description\": \"\"\n      }\n    },\n    {\n      \"column\": \"Valuation (M USD)_log\",\n      \"properties\": {\n        \"dtype\": \"number\",\n        \"std\": 1.1684969845496653,\n        \"min\": 1.2325602611778486,\n        \"max\": 8.37988094608167,\n        \"num_unique_values\": 500,\n        \"samples\": [\n          7.717822901048859,\n          7.248816967937158,\n          7.162017580235107\n        ],\n        \"semantic_type\": \"\",\n        \"description\": \"\"\n      }\n    },\n    {\n      \"column\": \"Employees_log\",\n      \"properties\": {\n        \"dtype\": \"number\",\n        \"std\": 0.9115758899952734,\n        \"min\": 2.5649493574615367,\n        \"max\": 8.514188682395938,\n        \"num_unique_values\": 478,\n        \"samples\": [\n          7.813591552952433,\n          7.175489713624222,\n          7.927685045615778\n        ],\n        \"semantic_type\": \"\",\n        \"description\": \"\"\n      }\n    },\n    {\n      \"column\": \"Market Share (%)\",\n      \"properties\": {\n        \"dtype\": \"number\",\n        \"std\": 2.807645651539601,\n        \"min\": 0.1,\n        \"max\": 10.0,\n        \"num_unique_values\": 384,\n        \"samples\": [\n          8.75,\n          4.31,\n          8.22\n        ],\n        \"semantic_type\": \"\",\n        \"description\": \"\"\n      }\n    },\n    {\n      \"column\": \"age\",\n      \"properties\": {\n        \"dtype\": \"number\",\n        \"std\": 9,\n        \"min\": 3,\n        \"max\": 35,\n        \"num_unique_values\": 33,\n        \"samples\": [\n          3,\n          32,\n          6\n        ],\n        \"semantic_type\": \"\",\n        \"description\": \"\"\n      }\n    },\n    {\n      \"column\": \"funding_to_revenue\",\n      \"properties\": {\n        \"dtype\": \"number\",\n        \"std\": 22.306571615124255,\n        \"min\": 0.0099537859936011,\n        \"max\": 204.72916666666663,\n        \"num_unique_values\": 500,\n        \"samples\": [\n          3.2024530811290086,\n          3.888450353136685,\n          25.58476658476658\n        ],\n        \"semantic_type\": \"\",\n        \"description\": \"\"\n      }\n    },\n    {\n      \"column\": \"employees_to_revenue\",\n      \"properties\": {\n        \"dtype\": \"number\",\n        \"std\": 1910.9304057534264,\n        \"min\": 0.3844114528101803,\n        \"max\": 33975.0,\n        \"num_unique_values\": 500,\n        \"samples\": [\n          70.41525048027191,\n          55.35936850851682,\n          543.4889434889435\n        ],\n        \"semantic_type\": \"\",\n        \"description\": \"\"\n      }\n    },\n    {\n      \"column\": \"valuation_to_age\",\n      \"properties\": {\n        \"dtype\": \"number\",\n        \"std\": 128.62266137253428,\n        \"min\": 0.0775,\n        \"max\": 1452.496666666667,\n        \"num_unique_values\": 500,\n        \"samples\": [\n          204.27818181818185,\n          108.11076923076924,\n          39.04575757575758\n        ],\n        \"semantic_type\": \"\",\n        \"description\": \"\"\n      }\n    },\n    {\n      \"column\": \"valuation_to_market_share\",\n      \"properties\": {\n        \"dtype\": \"number\",\n        \"std\": 1519.0046941803034,\n        \"min\": 0.562358276643991,\n        \"max\": 20098.500000000004,\n        \"num_unique_values\": 500,\n        \"samples\": [\n          301.6187919463087,\n          150.79828326180257,\n          1481.0459770114942\n        ],\n        \"semantic_type\": \"\",\n        \"description\": \"\"\n      }\n    },\n    {\n      \"column\": \"cluster_k3\",\n      \"properties\": {\n        \"dtype\": \"number\",\n        \"std\": 0,\n        \"min\": 0,\n        \"max\": 2,\n        \"num_unique_values\": 3,\n        \"samples\": [\n          0,\n          1,\n          2\n        ],\n        \"semantic_type\": \"\",\n        \"description\": \"\"\n      }\n    },\n    {\n      \"column\": \"Profitable\",\n      \"properties\": {\n        \"dtype\": \"number\",\n        \"std\": 0,\n        \"min\": 0,\n        \"max\": 1,\n        \"num_unique_values\": 2,\n        \"samples\": [\n          1,\n          0\n        ],\n        \"semantic_type\": \"\",\n        \"description\": \"\"\n      }\n    }\n  ]\n}"
            }
          },
          "metadata": {},
          "execution_count": 12
        }
      ]
    },
    {
      "cell_type": "markdown",
      "source": [
        "## Regresion lineal"
      ],
      "metadata": {
        "id": "qBkS6CQ9d-mv"
      }
    },
    {
      "cell_type": "code",
      "source": [
        "\n",
        "# Definir features (numéricas + cluster como dummy)\n",
        "features = [\n",
        "    'Funding Amount (M USD)_log', 'Revenue (M USD)_log', 'Valuation (M USD)_log',\n",
        "    'Employees_log', 'Market Share (%)', 'age',\n",
        "    'funding_to_revenue', 'employees_to_revenue',\n",
        "    'valuation_to_age', 'valuation_to_market_share',\n",
        "    'cluster_k3'\n",
        "]\n",
        "\n",
        "X = df_1[features]\n",
        "y = df_1['Profitable']\n",
        "\n",
        "# Train/Test split\n",
        "X_train, X_test, y_train, y_test = train_test_split(\n",
        "    X, y, test_size=0.3, random_state=42, stratify=y\n",
        ")"
      ],
      "metadata": {
        "id": "YyI1Lpfy40g0"
      },
      "execution_count": null,
      "outputs": []
    },
    {
      "cell_type": "code",
      "source": [
        "# Modelo lineal\n",
        "linreg = LinearRegression()\n",
        "linreg.fit(X_train, y_train)\n",
        "\n",
        "# Predicciones\n",
        "y_pred = linreg.predict(X_test)\n",
        "\n",
        "# Métricas regresión\n",
        "mse = mean_squared_error(y_test, y_pred)\n",
        "r2 = r2_score(y_test, y_pred)\n",
        "\n",
        "print(\"MSE:\", mse)\n",
        "print(\"R^2:\", r2)\n",
        "print(\"Ejemplo predicciones:\", y_pred[:10])\n"
      ],
      "metadata": {
        "colab": {
          "base_uri": "https://localhost:8080/"
        },
        "id": "7qT7W-C55ChE",
        "outputId": "e8bddcbc-a8c7-45fb-f7bd-b25c608e64a1"
      },
      "execution_count": null,
      "outputs": [
        {
          "output_type": "stream",
          "name": "stdout",
          "text": [
            "MSE: 0.24184919533970184\n",
            "R^2: 0.015093774634698298\n",
            "Ejemplo predicciones: [0.30488199 0.5045074  0.4426839  0.4727019  0.4127366  0.53096428\n",
            " 0.41503063 0.45376245 0.43832949 0.36208981]\n"
          ]
        }
      ]
    },
    {
      "cell_type": "code",
      "source": [
        "# Clasificación usando 0.5 como umbral\n",
        "y_pred_class = (y_pred >= 0.5).astype(int)\n",
        "\n",
        "print(confusion_matrix(y_test, y_pred_class))\n",
        "print(classification_report(y_test, y_pred_class))"
      ],
      "metadata": {
        "colab": {
          "base_uri": "https://localhost:8080/"
        },
        "id": "7LwKDbJZ5D3e",
        "outputId": "70fd23f6-5211-4833-ed43-1b5a04a631e4"
      },
      "execution_count": null,
      "outputs": [
        {
          "output_type": "stream",
          "name": "stdout",
          "text": [
            "[[70 15]\n",
            " [47 18]]\n",
            "              precision    recall  f1-score   support\n",
            "\n",
            "           0       0.60      0.82      0.69        85\n",
            "           1       0.55      0.28      0.37        65\n",
            "\n",
            "    accuracy                           0.59       150\n",
            "   macro avg       0.57      0.55      0.53       150\n",
            "weighted avg       0.58      0.59      0.55       150\n",
            "\n"
          ]
        }
      ]
    },
    {
      "cell_type": "markdown",
      "source": [
        "## Regresión logistica"
      ],
      "metadata": {
        "id": "HTxq64PXeCNF"
      }
    },
    {
      "cell_type": "code",
      "source": [
        "# Modelo logístico\n",
        "logreg = LogisticRegression(max_iter=1000, solver=\"liblinear\")\n",
        "logreg.fit(X_train, y_train)\n",
        "\n",
        "# Predicciones\n",
        "y_pred_log = logreg.predict(X_test)\n",
        "y_prob_log = logreg.predict_proba(X_test)[:,1]\n",
        "\n",
        "# Reporte\n",
        "print(confusion_matrix(y_test, y_pred_log))\n",
        "print(classification_report(y_test, y_pred_log))\n",
        "\n",
        "# ROC-AUC\n",
        "roc_auc = roc_auc_score(y_test, y_prob_log)\n",
        "print(\"ROC-AUC:\", roc_auc)"
      ],
      "metadata": {
        "colab": {
          "base_uri": "https://localhost:8080/"
        },
        "id": "42zUhe_p5Jzo",
        "outputId": "0649ad77-2b3b-4699-ad5a-fbac2a88e28a"
      },
      "execution_count": null,
      "outputs": [
        {
          "output_type": "stream",
          "name": "stdout",
          "text": [
            "[[68 17]\n",
            " [47 18]]\n",
            "              precision    recall  f1-score   support\n",
            "\n",
            "           0       0.59      0.80      0.68        85\n",
            "           1       0.51      0.28      0.36        65\n",
            "\n",
            "    accuracy                           0.57       150\n",
            "   macro avg       0.55      0.54      0.52       150\n",
            "weighted avg       0.56      0.57      0.54       150\n",
            "\n",
            "ROC-AUC: 0.5473303167420814\n"
          ]
        }
      ]
    },
    {
      "cell_type": "code",
      "source": [
        "def evaluate_threshold(threshold=0.5):\n",
        "    y_pred_thr = (y_prob_log >= threshold).astype(int)\n",
        "    print(f\"\\n--- Umbral {threshold} ---\")\n",
        "    print(confusion_matrix(y_test, y_pred_thr))\n",
        "    print(classification_report(y_test, y_pred_thr))\n",
        "\n",
        "# Prueba con varios umbrales\n",
        "for t in [0.5, 0.4, 0.3]:\n",
        "    evaluate_threshold(t)\n"
      ],
      "metadata": {
        "colab": {
          "base_uri": "https://localhost:8080/"
        },
        "id": "J9UIg7WQ-aoX",
        "outputId": "1bb94e48-d1b3-4981-b3aa-0604db9e4f3c"
      },
      "execution_count": null,
      "outputs": [
        {
          "output_type": "stream",
          "name": "stdout",
          "text": [
            "\n",
            "--- Umbral 0.5 ---\n",
            "[[68 17]\n",
            " [47 18]]\n",
            "              precision    recall  f1-score   support\n",
            "\n",
            "           0       0.59      0.80      0.68        85\n",
            "           1       0.51      0.28      0.36        65\n",
            "\n",
            "    accuracy                           0.57       150\n",
            "   macro avg       0.55      0.54      0.52       150\n",
            "weighted avg       0.56      0.57      0.54       150\n",
            "\n",
            "\n",
            "--- Umbral 0.4 ---\n",
            "[[35 50]\n",
            " [20 45]]\n",
            "              precision    recall  f1-score   support\n",
            "\n",
            "           0       0.64      0.41      0.50        85\n",
            "           1       0.47      0.69      0.56        65\n",
            "\n",
            "    accuracy                           0.53       150\n",
            "   macro avg       0.56      0.55      0.53       150\n",
            "weighted avg       0.57      0.53      0.53       150\n",
            "\n",
            "\n",
            "--- Umbral 0.3 ---\n",
            "[[ 3 82]\n",
            " [ 3 62]]\n",
            "              precision    recall  f1-score   support\n",
            "\n",
            "           0       0.50      0.04      0.07        85\n",
            "           1       0.43      0.95      0.59        65\n",
            "\n",
            "    accuracy                           0.43       150\n",
            "   macro avg       0.47      0.49      0.33       150\n",
            "weighted avg       0.47      0.43      0.29       150\n",
            "\n"
          ]
        }
      ]
    },
    {
      "cell_type": "code",
      "source": [
        "coef_df = pd.DataFrame({\n",
        "    \"Feature\": X_train.columns,\n",
        "    \"Coef\": logreg.coef_[0]\n",
        "}).sort_values(by=\"Coef\", key=abs, ascending=False)\n",
        "\n",
        "print(coef_df)\n"
      ],
      "metadata": {
        "colab": {
          "base_uri": "https://localhost:8080/"
        },
        "id": "iPYnGras-f7v",
        "outputId": "913dafd6-cdbd-415e-dc68-b2b0b3219192"
      },
      "execution_count": null,
      "outputs": [
        {
          "output_type": "stream",
          "name": "stdout",
          "text": [
            "                       Feature      Coef\n",
            "0   Funding Amount (M USD)_log -0.097045\n",
            "4             Market Share (%)  0.095564\n",
            "2        Valuation (M USD)_log  0.062934\n",
            "3                Employees_log -0.045325\n",
            "1          Revenue (M USD)_log  0.044874\n",
            "10                  cluster_k3  0.018328\n",
            "6           funding_to_revenue -0.007161\n",
            "5                          age -0.005691\n",
            "8             valuation_to_age  0.000683\n",
            "9    valuation_to_market_share  0.000116\n",
            "7         employees_to_revenue  0.000022\n"
          ]
        }
      ]
    },
    {
      "cell_type": "markdown",
      "source": [
        "## Arbol decisión"
      ],
      "metadata": {
        "id": "sDN14iq9eHfi"
      }
    },
    {
      "cell_type": "code",
      "source": [
        "\n",
        "\n",
        "# Árbol de decisión\n",
        "dt = DecisionTreeClassifier(max_depth=5, random_state=42)\n",
        "dt.fit(X_train, y_train)\n",
        "y_pred_dt = dt.predict(X_test)\n",
        "y_prob_dt = dt.predict_proba(X_test)[:,1]\n",
        "\n",
        "print(\"\\n=== Árbol de Decisión ===\")\n",
        "print(classification_report(y_test, y_pred_dt))\n",
        "print(\"ROC-AUC:\", roc_auc_score(y_test, y_prob_dt))\n",
        "\n",
        "# Random Forest\n",
        "rf = RandomForestClassifier(n_estimators=200, max_depth=7, random_state=42)\n",
        "rf.fit(X_train, y_train)\n",
        "y_pred_rf = rf.predict(X_test)\n",
        "y_prob_rf = rf.predict_proba(X_test)[:,1]\n",
        "\n",
        "print(\"\\n=== Random Forest ===\")\n",
        "print(classification_report(y_test, y_pred_rf))\n",
        "print(\"ROC-AUC:\", roc_auc_score(y_test, y_prob_rf))\n"
      ],
      "metadata": {
        "colab": {
          "base_uri": "https://localhost:8080/"
        },
        "id": "ly0gSuQQ-nh8",
        "outputId": "c12aa00d-f39a-4a76-f0ce-abdf23d16b17"
      },
      "execution_count": null,
      "outputs": [
        {
          "output_type": "stream",
          "name": "stdout",
          "text": [
            "\n",
            "=== Árbol de Decisión ===\n",
            "              precision    recall  f1-score   support\n",
            "\n",
            "           0       0.55      0.74      0.63        85\n",
            "           1       0.39      0.22      0.28        65\n",
            "\n",
            "    accuracy                           0.51       150\n",
            "   macro avg       0.47      0.48      0.46       150\n",
            "weighted avg       0.48      0.51      0.48       150\n",
            "\n",
            "ROC-AUC: 0.45864253393665155\n",
            "\n",
            "=== Random Forest ===\n",
            "              precision    recall  f1-score   support\n",
            "\n",
            "           0       0.58      0.75      0.66        85\n",
            "           1       0.47      0.29      0.36        65\n",
            "\n",
            "    accuracy                           0.55       150\n",
            "   macro avg       0.53      0.52      0.51       150\n",
            "weighted avg       0.54      0.55      0.53       150\n",
            "\n",
            "ROC-AUC: 0.5840723981900453\n"
          ]
        }
      ]
    },
    {
      "cell_type": "code",
      "source": [
        "df_1.columns"
      ],
      "metadata": {
        "colab": {
          "base_uri": "https://localhost:8080/"
        },
        "id": "5TNKtNuCDHyO",
        "outputId": "fe777f62-d17e-457f-e268-dc37d02d65f8"
      },
      "execution_count": null,
      "outputs": [
        {
          "output_type": "execute_result",
          "data": {
            "text/plain": [
              "Index(['Startup Name', 'Industry', 'Region', 'Exit Status',\n",
              "       'Funding Amount (M USD)_log', 'Revenue (M USD)_log',\n",
              "       'Valuation (M USD)_log', 'Employees_log', 'Market Share (%)', 'age',\n",
              "       'funding_to_revenue', 'employees_to_revenue', 'valuation_to_age',\n",
              "       'valuation_to_market_share', 'cluster_k3', 'Profitable'],\n",
              "      dtype='object')"
            ]
          },
          "metadata": {},
          "execution_count": 26
        }
      ]
    },
    {
      "cell_type": "code",
      "source": [
        "import datetime\n",
        "\n",
        "# Año actual\n",
        "current_year = datetime.datetime.now().year\n",
        "\n",
        "# Crear variable age\n",
        "df_org['age'] = current_year - df_org['Year Founded']\n",
        "\n",
        "# Revisar\n",
        "print(df_org[['Startup Name','Year Founded','age']].head())"
      ],
      "metadata": {
        "colab": {
          "base_uri": "https://localhost:8080/"
        },
        "id": "-GLapFBICrlU",
        "outputId": "2c64ab1b-4cdb-4862-fe94-fcd9aa7e7b63"
      },
      "execution_count": null,
      "outputs": [
        {
          "output_type": "stream",
          "name": "stdout",
          "text": [
            "  Startup Name  Year Founded  age\n",
            "0    Startup_1          2006   19\n",
            "1    Startup_2          2003   22\n",
            "2    Startup_3          1995   30\n",
            "3    Startup_4          2003   22\n",
            "4    Startup_5          1997   28\n"
          ]
        }
      ]
    },
    {
      "cell_type": "code",
      "source": [
        "raw_features = [\n",
        "    'Funding Amount (M USD)', 'Revenue (M USD)', 'Valuation (M USD)',\n",
        "    'Employees', 'Market Share (%)', 'age',\n",
        "    'Industry', 'Region', 'Exit Status'\n",
        "]\n",
        "\n",
        "X_raw = df_org[raw_features]\n",
        "y_raw = df_org['Profitable']\n",
        "\n",
        "# Split\n",
        "X_train, X_test, y_train, y_test = train_test_split(\n",
        "    X_raw, y_raw, test_size=0.3, random_state=42, stratify=y_raw\n",
        ")\n",
        "\n",
        "# Preprocesamiento: numéricas y categóricas\n",
        "from sklearn.compose import ColumnTransformer\n",
        "from sklearn.preprocessing import StandardScaler, OneHotEncoder\n",
        "from sklearn.pipeline import Pipeline\n",
        "from sklearn.linear_model import LogisticRegression\n",
        "from sklearn.metrics import classification_report, roc_auc_score\n",
        "\n",
        "num_cols = ['Funding Amount (M USD)', 'Revenue (M USD)', 'Valuation (M USD)',\n",
        "            'Employees', 'Market Share (%)', 'age']\n",
        "cat_cols = ['Industry', 'Region', 'Exit Status']\n",
        "\n",
        "preprocessor = ColumnTransformer([\n",
        "    (\"num\", StandardScaler(), num_cols),\n",
        "    (\"cat\", OneHotEncoder(handle_unknown='ignore'), cat_cols)\n",
        "])\n",
        "\n",
        "log_reg_raw = Pipeline([\n",
        "    (\"preprocessor\", preprocessor),\n",
        "    (\"classifier\", LogisticRegression(max_iter=1000, solver=\"liblinear\"))\n",
        "])\n",
        "\n",
        "# Entrenar\n",
        "log_reg_raw.fit(X_train, y_train)\n",
        "y_pred = log_reg_raw.predict(X_test)\n",
        "y_prob = log_reg_raw.predict_proba(X_test)[:,1]\n",
        "\n",
        "# Evaluación\n",
        "print(confusion_matrix(y_test, y_pred))\n",
        "print(classification_report(y_test, y_pred))\n",
        "print(\"ROC-AUC:\", roc_auc_score(y_test, y_prob))\n"
      ],
      "metadata": {
        "colab": {
          "base_uri": "https://localhost:8080/"
        },
        "id": "B7Dxls-4DCbr",
        "outputId": "1b0b1a33-b8bd-4dbe-e56a-13d46e9fc833"
      },
      "execution_count": null,
      "outputs": [
        {
          "output_type": "stream",
          "name": "stdout",
          "text": [
            "[[60 25]\n",
            " [41 24]]\n",
            "              precision    recall  f1-score   support\n",
            "\n",
            "           0       0.59      0.71      0.65        85\n",
            "           1       0.49      0.37      0.42        65\n",
            "\n",
            "    accuracy                           0.56       150\n",
            "   macro avg       0.54      0.54      0.53       150\n",
            "weighted avg       0.55      0.56      0.55       150\n",
            "\n",
            "ROC-AUC: 0.5476923076923077\n"
          ]
        }
      ]
    },
    {
      "cell_type": "code",
      "source": [
        "import matplotlib.pyplot as plt\n",
        "\n",
        "# Logistic\n",
        "coef_df.head(15).plot(kind=\"barh\", x=\"Feature\", y=\"Coef\", figsize=(8,6), title=\"Coeficientes Logistic Regression\")\n",
        "plt.show()\n",
        "\n",
        "# XGBoost\n",
        "feat_importances_xgb.head(15).plot(kind=\"barh\", x=\"Feature\", y=\"Importance\", figsize=(8,6), title=\"Importancia XGBoost\")\n",
        "plt.show()\n"
      ],
      "metadata": {
        "colab": {
          "base_uri": "https://localhost:8080/",
          "height": 1000
        },
        "id": "ULgMIc8DGbj8",
        "outputId": "5528e73c-de4c-49c9-eb7a-b9a9e1c4376c"
      },
      "execution_count": null,
      "outputs": [
        {
          "output_type": "display_data",
          "data": {
            "text/plain": [
              "<Figure size 800x600 with 1 Axes>"
            ],
            "image/png": "[encoded data removed]"
          },
          "metadata": {}
        },
        {
          "output_type": "display_data",
          "data": {
            "text/plain": [
              "<Figure size 800x600 with 1 Axes>"
            ],
            "image/png": "[encoded data removed]"
          },
          "metadata": {}
        }
      ]
    },
    {
      "cell_type": "code",
      "source": [
        "from sklearn.linear_model import LogisticRegression\n",
        "import pandas as pd\n",
        "import numpy as np\n",
        "\n",
        "# Modelo logístico con regularización L1 (Lasso)\n",
        "log_reg_l1 = Pipeline([\n",
        "    (\"preprocessor\", preprocessor),\n",
        "    (\"classifier\", LogisticRegression(\n",
        "        penalty=\"l1\",           # regularización L1\n",
        "        solver=\"liblinear\",     # solver compatible\n",
        "        C=1.0,                  # fuerza de regularización (más bajo = más fuerte)\n",
        "        max_iter=1000,\n",
        "        random_state=42\n",
        "    ))\n",
        "])\n",
        "\n",
        "# Entrenar\n",
        "log_reg_l1.fit(X_train, y_train)\n",
        "\n",
        "# Predicciones\n",
        "y_pred_l1 = log_reg_l1.predict(X_test)\n",
        "y_prob_l1 = log_reg_l1.predict_proba(X_test)[:,1]\n",
        "\n",
        "# Evaluación\n",
        "print(\"\\n=== Logistic Regression con L1 ===\")\n",
        "print(confusion_matrix(y_test, y_pred_l1))\n",
        "print(classification_report(y_test, y_pred_l1))\n",
        "print(\"ROC-AUC:\", roc_auc_score(y_test, y_prob_l1))\n",
        "\n",
        "# === Coeficientes ===\n",
        "log_clf_l1 = log_reg_l1.named_steps['classifier']\n",
        "log_features = (\n",
        "    log_reg_l1.named_steps['preprocessor']\n",
        "    .transformers_[0][2] +  # num cols\n",
        "    list(\n",
        "        log_reg_l1.named_steps['preprocessor']\n",
        "        .transformers_[1][1]   # one-hot encoder\n",
        "        .get_feature_names_out(cat_cols)\n",
        "    )\n",
        ")\n",
        "\n",
        "coef_df_l1 = pd.DataFrame({\n",
        "    \"Feature\": log_features,\n",
        "    \"Coef\": log_clf_l1.coef_[0]\n",
        "}).sort_values(by=\"Coef\", key=np.abs, ascending=False)\n",
        "\n",
        "print(\"\\n=== Variables seleccionadas (coef ≠ 0) ===\")\n",
        "print(coef_df_l1[coef_df_l1[\"Coef\"] != 0])\n"
      ],
      "metadata": {
        "colab": {
          "base_uri": "https://localhost:8080/"
        },
        "id": "WudOPWs8Gh5F",
        "outputId": "d478cb80-1a9e-431b-8531-139567582924"
      },
      "execution_count": null,
      "outputs": [
        {
          "output_type": "stream",
          "name": "stdout",
          "text": [
            "\n",
            "=== Logistic Regression con L1 ===\n",
            "[[68 17]\n",
            " [41 24]]\n",
            "              precision    recall  f1-score   support\n",
            "\n",
            "           0       0.62      0.80      0.70        85\n",
            "           1       0.59      0.37      0.45        65\n",
            "\n",
            "    accuracy                           0.61       150\n",
            "   macro avg       0.60      0.58      0.58       150\n",
            "weighted avg       0.61      0.61      0.59       150\n",
            "\n",
            "ROC-AUC: 0.5574660633484163\n",
            "\n",
            "=== Variables seleccionadas (coef ≠ 0) ===\n",
            "                     Feature      Coef\n",
            "20           Industry_Gaming -0.923895\n",
            "2          Valuation (M USD)  0.742345\n",
            "19          Industry_FinTech -0.716899\n",
            "0     Funding Amount (M USD) -0.494308\n",
            "26      Region_North America -0.464385\n",
            "15               Industry_AI  0.411475\n",
            "4           Market Share (%)  0.302859\n",
            "16    Industry_Cybersecurity -0.254644\n",
            "9           funding_per_year  0.231722\n",
            "6       revenue_per_employee  0.230836\n",
            "29           Exit Status_IPO  0.215687\n",
            "24          Region_Australia  0.202792\n",
            "11      valuation_to_funding -0.182734\n",
            "10        valuation_per_year -0.178096\n",
            "13  revenue_per_market_share  0.167213\n",
            "27      Region_South America -0.162887\n",
            "23               Region_Asia  0.158124\n",
            "30       Exit Status_Private -0.144054\n",
            "3                  Employees  0.141880\n",
            "17       Industry_E-Commerce  0.103986\n",
            "8           revenue_per_year  0.100906\n",
            "7       funding_per_employee -0.061711\n",
            "12        revenue_to_funding  0.048136\n",
            "1            Revenue (M USD) -0.022387\n",
            "21       Industry_HealthTech -0.017177\n",
            "5                        age  0.006228\n",
            "22              Industry_IoT  0.005338\n"
          ]
        }
      ]
    },
    {
      "cell_type": "code",
      "source": [],
      "metadata": {
        "id": "CksEQqJrG5Mn"
      },
      "execution_count": null,
      "outputs": []
    }
  ]
}